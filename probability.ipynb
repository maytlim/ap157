{
  "nbformat": 4,
  "nbformat_minor": 0,
  "metadata": {
    "colab": {
      "name": "probability.ipynb",
      "provenance": [],
      "authorship_tag": "ABX9TyOSJeBB7hTOMtQR6vY4d+l3",
      "include_colab_link": true
    },
    "kernelspec": {
      "name": "python3",
      "display_name": "Python 3"
    }
  },
  "cells": [
    {
      "cell_type": "markdown",
      "metadata": {
        "id": "view-in-github",
        "colab_type": "text"
      },
      "source": [
        "<a href=\"https://colab.research.google.com/github/maytlim/ap157/blob/main/probability.ipynb\" target=\"_parent\"><img src=\"https://colab.research.google.com/assets/colab-badge.svg\" alt=\"Open In Colab\"/></a>"
      ]
    },
    {
      "cell_type": "code",
      "metadata": {
        "id": "i8ftCHhR4uzU"
      },
      "source": [
        "p = 0.33   #probability of getting 'heads'\n",
        "N = 5     #number of times a coin would be tossed"
      ],
      "execution_count": 1,
      "outputs": []
    },
    {
      "cell_type": "code",
      "metadata": {
        "id": "f-IIf3-t5fv7"
      },
      "source": [
        "import numpy as np"
      ],
      "execution_count": 2,
      "outputs": []
    },
    {
      "cell_type": "code",
      "metadata": {
        "colab": {
          "base_uri": "https://localhost:8080/"
        },
        "id": "ysav61sL5tVM",
        "outputId": "19d5fd06-24a8-4531-abbb-e6e74f1cdadd"
      },
      "source": [
        "np.random.random()"
      ],
      "execution_count": 3,
      "outputs": [
        {
          "output_type": "execute_result",
          "data": {
            "text/plain": [
              "0.6372001534999691"
            ]
          },
          "metadata": {
            "tags": []
          },
          "execution_count": 3
        }
      ]
    },
    {
      "cell_type": "code",
      "metadata": {
        "colab": {
          "base_uri": "https://localhost:8080/"
        },
        "id": "xW0DzGPl6CLd",
        "outputId": "2e9c3528-c64e-442d-bfb6-692d93642e1c"
      },
      "source": [
        "np.random.random(2)"
      ],
      "execution_count": 4,
      "outputs": [
        {
          "output_type": "execute_result",
          "data": {
            "text/plain": [
              "array([0.24415042, 0.05032007])"
            ]
          },
          "metadata": {
            "tags": []
          },
          "execution_count": 4
        }
      ]
    },
    {
      "cell_type": "code",
      "metadata": {
        "colab": {
          "base_uri": "https://localhost:8080/"
        },
        "id": "CcVLqAh76IJI",
        "outputId": "12609bdc-7a74-45f5-f617-7f7a51ff7e43"
      },
      "source": [
        "np.random.random([3,2])"
      ],
      "execution_count": 5,
      "outputs": [
        {
          "output_type": "execute_result",
          "data": {
            "text/plain": [
              "array([[0.56056484, 0.50267425],\n",
              "       [0.83306865, 0.81380759],\n",
              "       [0.92829647, 0.5542037 ]])"
            ]
          },
          "metadata": {
            "tags": []
          },
          "execution_count": 5
        }
      ]
    },
    {
      "cell_type": "code",
      "metadata": {
        "colab": {
          "base_uri": "https://localhost:8080/"
        },
        "id": "iCm_AekQ6J_1",
        "outputId": "86a2dd15-484c-4972-d14b-f004ffbf0ca0"
      },
      "source": [
        "np.random.random([2,3,4])"
      ],
      "execution_count": 6,
      "outputs": [
        {
          "output_type": "execute_result",
          "data": {
            "text/plain": [
              "array([[[0.62297166, 0.75314157, 0.69985253, 0.79871407],\n",
              "        [0.70658721, 0.13387791, 0.44565668, 0.23540806],\n",
              "        [0.65568182, 0.12254079, 0.15052719, 0.79310796]],\n",
              "\n",
              "       [[0.96012866, 0.50941918, 0.59425486, 0.28567892],\n",
              "        [0.01078149, 0.74442561, 0.18305657, 0.785622  ],\n",
              "        [0.53380218, 0.89286856, 0.02460876, 0.48806392]]])"
            ]
          },
          "metadata": {
            "tags": []
          },
          "execution_count": 6
        }
      ]
    },
    {
      "cell_type": "code",
      "metadata": {
        "colab": {
          "base_uri": "https://localhost:8080/"
        },
        "id": "8FC-O2b66PmD",
        "outputId": "bb581a97-3d00-42a1-dd6c-bb8b182a2610"
      },
      "source": [
        "np.random.random(N)"
      ],
      "execution_count": 7,
      "outputs": [
        {
          "output_type": "execute_result",
          "data": {
            "text/plain": [
              "array([0.15627929, 0.48805395, 0.01023213, 0.18726249, 0.71720323])"
            ]
          },
          "metadata": {
            "tags": []
          },
          "execution_count": 7
        }
      ]
    },
    {
      "cell_type": "code",
      "metadata": {
        "id": "qQZNUMVt6js4"
      },
      "source": [
        "events = np.random.random(N) < p    # producing events with probability p "
      ],
      "execution_count": 8,
      "outputs": []
    },
    {
      "cell_type": "code",
      "metadata": {
        "colab": {
          "base_uri": "https://localhost:8080/"
        },
        "id": "-IflJjkI63mQ",
        "outputId": "b57caed7-a2a0-4140-c43f-87690fb596d1"
      },
      "source": [
        "events * 1"
      ],
      "execution_count": 9,
      "outputs": [
        {
          "output_type": "execute_result",
          "data": {
            "text/plain": [
              "array([0, 0, 1, 1, 0])"
            ]
          },
          "metadata": {
            "tags": []
          },
          "execution_count": 9
        }
      ]
    },
    {
      "cell_type": "code",
      "metadata": {
        "colab": {
          "base_uri": "https://localhost:8080/"
        },
        "id": "0vUguwwL7etF",
        "outputId": "d9976364-0f54-454b-bd48-b2c2799e083e"
      },
      "source": [
        "1 - events"
      ],
      "execution_count": 10,
      "outputs": [
        {
          "output_type": "execute_result",
          "data": {
            "text/plain": [
              "array([1, 1, 0, 0, 1])"
            ]
          },
          "metadata": {
            "tags": []
          },
          "execution_count": 10
        }
      ]
    },
    {
      "cell_type": "code",
      "metadata": {
        "id": "0pIN3QTm78ze"
      },
      "source": [
        "state1 = 1\n",
        "state2 = -1\n",
        "states = events * state1 + (1 - events) * state2   # assigning actual states"
      ],
      "execution_count": 11,
      "outputs": []
    },
    {
      "cell_type": "code",
      "metadata": {
        "id": "LCGU9Gms8qDA"
      },
      "source": [
        ""
      ],
      "execution_count": 11,
      "outputs": []
    }
  ]
}