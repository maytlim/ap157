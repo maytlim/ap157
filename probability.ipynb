{
  "nbformat": 4,
  "nbformat_minor": 0,
  "metadata": {
    "colab": {
      "name": "probability.ipynb",
      "provenance": [],
      "authorship_tag": "ABX9TyN+2c04SyYL/I3cGbCG2OhW",
      "include_colab_link": true
    },
    "kernelspec": {
      "name": "python3",
      "display_name": "Python 3"
    }
  },
  "cells": [
    {
      "cell_type": "markdown",
      "metadata": {
        "id": "view-in-github",
        "colab_type": "text"
      },
      "source": [
        "<a href=\"https://colab.research.google.com/github/maytlim/ap157/blob/main/probability.ipynb\" target=\"_parent\"><img src=\"https://colab.research.google.com/assets/colab-badge.svg\" alt=\"Open In Colab\"/></a>"
      ]
    },
    {
      "cell_type": "code",
      "metadata": {
        "id": "i8ftCHhR4uzU"
      },
      "source": [
        "p = 0.33   #probability of getting 'heads'\n",
        "N = 5     #number of times a coin would be tossed"
      ],
      "execution_count": 1,
      "outputs": []
    },
    {
      "cell_type": "code",
      "metadata": {
        "id": "f-IIf3-t5fv7"
      },
      "source": [
        "import numpy as np"
      ],
      "execution_count": 2,
      "outputs": []
    },
    {
      "cell_type": "code",
      "metadata": {
        "colab": {
          "base_uri": "https://localhost:8080/"
        },
        "id": "ysav61sL5tVM",
        "outputId": "ded134f1-4e0c-497d-884d-565cc9a89f9c"
      },
      "source": [
        "np.random.random()"
      ],
      "execution_count": 3,
      "outputs": [
        {
          "output_type": "execute_result",
          "data": {
            "text/plain": [
              "0.3109987124971012"
            ]
          },
          "metadata": {},
          "execution_count": 3
        }
      ]
    },
    {
      "cell_type": "code",
      "metadata": {
        "colab": {
          "base_uri": "https://localhost:8080/"
        },
        "id": "xW0DzGPl6CLd",
        "outputId": "1a03b896-2c0d-40a5-a9cc-6ccd040548a6"
      },
      "source": [
        "np.random.random(2)"
      ],
      "execution_count": 4,
      "outputs": [
        {
          "output_type": "execute_result",
          "data": {
            "text/plain": [
              "array([0.7036316 , 0.37683524])"
            ]
          },
          "metadata": {},
          "execution_count": 4
        }
      ]
    },
    {
      "cell_type": "code",
      "metadata": {
        "colab": {
          "base_uri": "https://localhost:8080/"
        },
        "id": "CcVLqAh76IJI",
        "outputId": "53e792cc-3f65-4bca-d764-cae4a25c3bf1"
      },
      "source": [
        "np.random.random([3,2])"
      ],
      "execution_count": 5,
      "outputs": [
        {
          "output_type": "execute_result",
          "data": {
            "text/plain": [
              "array([[0.191683  , 0.2150727 ],\n",
              "       [0.63843304, 0.00579562],\n",
              "       [0.13032002, 0.68299001]])"
            ]
          },
          "metadata": {},
          "execution_count": 5
        }
      ]
    },
    {
      "cell_type": "code",
      "metadata": {
        "colab": {
          "base_uri": "https://localhost:8080/"
        },
        "id": "iCm_AekQ6J_1",
        "outputId": "fc684826-c4fe-42e5-d10c-8e0090972a68"
      },
      "source": [
        "np.random.random([2,3,4])"
      ],
      "execution_count": 6,
      "outputs": [
        {
          "output_type": "execute_result",
          "data": {
            "text/plain": [
              "array([[[0.07661898, 0.56860347, 0.29990967, 0.54356018],\n",
              "        [0.90197897, 0.80370151, 0.14800316, 0.58060702],\n",
              "        [0.02733747, 0.02605913, 0.24933298, 0.06243157]],\n",
              "\n",
              "       [[0.42742371, 0.91893981, 0.5526018 , 0.62619373],\n",
              "        [0.85655557, 0.50501919, 0.95402053, 0.86860183],\n",
              "        [0.81308494, 0.06484211, 0.94287949, 0.93420615]]])"
            ]
          },
          "metadata": {},
          "execution_count": 6
        }
      ]
    },
    {
      "cell_type": "code",
      "metadata": {
        "colab": {
          "base_uri": "https://localhost:8080/"
        },
        "id": "8FC-O2b66PmD",
        "outputId": "f1667117-0977-40f4-bdb2-1a23d6c7590b"
      },
      "source": [
        "np.random.random(N)"
      ],
      "execution_count": 7,
      "outputs": [
        {
          "output_type": "execute_result",
          "data": {
            "text/plain": [
              "array([0.79148782, 0.25894654, 0.90263583, 0.8139357 , 0.46787665])"
            ]
          },
          "metadata": {},
          "execution_count": 7
        }
      ]
    },
    {
      "cell_type": "code",
      "metadata": {
        "id": "qQZNUMVt6js4",
        "outputId": "82a3ce69-4e8e-4430-8505-cc7f1d7cb75a",
        "colab": {
          "base_uri": "https://localhost:8080/"
        }
      },
      "source": [
        "events = np.random.random(N) < p    # producing events with probability p \n",
        "events"
      ],
      "execution_count": 12,
      "outputs": [
        {
          "output_type": "execute_result",
          "data": {
            "text/plain": [
              "array([ True,  True, False, False, False])"
            ]
          },
          "metadata": {},
          "execution_count": 12
        }
      ]
    },
    {
      "cell_type": "markdown",
      "source": [
        ""
      ],
      "metadata": {
        "id": "E3QWbKIczoUy"
      }
    },
    {
      "cell_type": "code",
      "metadata": {
        "colab": {
          "base_uri": "https://localhost:8080/"
        },
        "id": "-IflJjkI63mQ",
        "outputId": "5704dd12-c635-4897-fa2b-2e9c2dd584aa"
      },
      "source": [
        "events * 1"
      ],
      "execution_count": 13,
      "outputs": [
        {
          "output_type": "execute_result",
          "data": {
            "text/plain": [
              "array([1, 1, 0, 0, 0])"
            ]
          },
          "metadata": {},
          "execution_count": 13
        }
      ]
    },
    {
      "cell_type": "code",
      "metadata": {
        "colab": {
          "base_uri": "https://localhost:8080/"
        },
        "id": "0vUguwwL7etF",
        "outputId": "1482d1e0-8f20-48bf-d17c-f322c0b7e460"
      },
      "source": [
        "1 - events"
      ],
      "execution_count": 14,
      "outputs": [
        {
          "output_type": "execute_result",
          "data": {
            "text/plain": [
              "array([0, 0, 1, 1, 1])"
            ]
          },
          "metadata": {},
          "execution_count": 14
        }
      ]
    },
    {
      "cell_type": "code",
      "metadata": {
        "id": "0pIN3QTm78ze",
        "outputId": "e243557b-1c0b-4c0c-fde0-5967dcecdc05",
        "colab": {
          "base_uri": "https://localhost:8080/"
        }
      },
      "source": [
        "state1 = 1\n",
        "state2 = -1\n",
        "states = events * state1 + (1 - events) * state2   # assigning actual states\n",
        "states"
      ],
      "execution_count": 16,
      "outputs": [
        {
          "output_type": "execute_result",
          "data": {
            "text/plain": [
              "array([ 1,  1, -1, -1, -1])"
            ]
          },
          "metadata": {},
          "execution_count": 16
        }
      ]
    },
    {
      "cell_type": "code",
      "metadata": {
        "id": "LCGU9Gms8qDA"
      },
      "source": [
        ""
      ],
      "execution_count": 11,
      "outputs": []
    }
  ]
}