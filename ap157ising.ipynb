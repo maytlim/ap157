{
  "nbformat": 4,
  "nbformat_minor": 0,
  "metadata": {
    "colab": {
      "name": "ap157ising.ipynb",
      "provenance": [],
      "authorship_tag": "ABX9TyPrGzzJZG7O1/ePxKlB1Sw7",
      "include_colab_link": true
    },
    "kernelspec": {
      "name": "python3",
      "display_name": "Python 3"
    },
    "language_info": {
      "name": "python"
    }
  },
  "cells": [
    {
      "cell_type": "markdown",
      "metadata": {
        "id": "view-in-github",
        "colab_type": "text"
      },
      "source": [
        "<a href=\"https://colab.research.google.com/github/maytlim/ap157/blob/main/ap157ising.ipynb\" target=\"_parent\"><img src=\"https://colab.research.google.com/assets/colab-badge.svg\" alt=\"Open In Colab\"/></a>"
      ]
    },
    {
      "cell_type": "code",
      "execution_count": 1,
      "metadata": {
        "id": "NYr1QgqiYxKh"
      },
      "outputs": [],
      "source": [
        "#!wget https://www.numfys.net/media/notebooks/Monte_Carlo_Ising.ipynb"
      ]
    },
    {
      "cell_type": "markdown",
      "source": [
        "#### Implementation\n",
        "1. Initialize a spin configuration. In our case the initial spin configuration will be random, corresponding to a high temperature initial configuration.\n",
        "2. Compute the energy of the configuration using \\eqref{Hamiltonian}.\n",
        "3. Pick a random site $i$ on the lattice, and calculate the energy of the configuration if $s_i \\rightarrow   -s_i$. Then compute the change in energy of the whole configuration, $\\Delta E$.\n",
        "4. If $\\Delta E$ is negative, accept the change of the spin-configuration by letting $s_i \\rightarrow   -s_i$.\n",
        "5. If  $\\Delta E$ is non-negative, generate a random number $r \\in \\big \\langle 0, 1 \\big \\rangle$. If $e^{-\\beta \\Delta E} > r$, change the spin configuration by letting $s_i \\rightarrow   -s_i$.\n",
        "6. Repeat the process $N^2$ times. This defines a single Monte Carlo sweep, $t$.\n",
        "\n",
        "To summarize, a move that reduces the energy of the spin configuration, $\\textit{will}$ be accepted, while a move that increases the energy, $\\textit{might}$ get accepted.\n"
      ],
      "metadata": {
        "id": "fh2Ko4wCeEZF"
      }
    },
    {
      "cell_type": "markdown",
      "source": [
        "$H = - \\sum_{<i,j>} J_{ij} s_i s_j - B\\sum_{i} s_i$ <br>\n",
        "where $B$ is the magnetic field. The first summation is over nearest neighbors of each lattice point, while the second summation is over all the $N^2$ lattice points. The interaction between the nearest neighbors are described using $J$ and $J'$.\n"
      ],
      "metadata": {
        "id": "FETroCe-fCbT"
      }
    },
    {
      "cell_type": "code",
      "source": [
        "import numpy as np"
      ],
      "metadata": {
        "id": "DDd-xOxzeNto"
      },
      "execution_count": 2,
      "outputs": []
    },
    {
      "cell_type": "code",
      "source": [
        "lattice_size = 5\n",
        "prob_up = 0.5\n",
        "J = 1\n",
        "B = 1"
      ],
      "metadata": {
        "id": "HmNXD7nTeQns"
      },
      "execution_count": 3,
      "outputs": []
    },
    {
      "cell_type": "code",
      "source": [
        "#spin_lattice = np.random.random([lattice_size, lattice_size])\n",
        "spin_lattice = np.random.random([lattice_size, lattice_size]) < prob_up\n",
        "spin_lattice = 2 * spin_lattice - 1\n",
        "spin_lattice"
      ],
      "metadata": {
        "colab": {
          "base_uri": "https://localhost:8080/"
        },
        "id": "WpIqZUS3ehFh",
        "outputId": "dda377dc-68d5-43e2-cba1-b3799b31b67a"
      },
      "execution_count": 4,
      "outputs": [
        {
          "output_type": "execute_result",
          "data": {
            "text/plain": [
              "array([[-1,  1,  1,  1,  1],\n",
              "       [-1, -1,  1,  1, -1],\n",
              "       [-1,  1,  1, -1,  1],\n",
              "       [-1, -1, -1,  1, -1],\n",
              "       [-1, -1, -1,  1, -1]])"
            ]
          },
          "metadata": {},
          "execution_count": 4
        }
      ]
    },
    {
      "cell_type": "code",
      "source": [
        "def delta_energy(lattice, x, y, J, B, x_size, y_size):\n",
        "  '''change in energy if the spin at (x,y) is flipped'''\n",
        "  #x_size = np.shape(lattice)[0]\n",
        "  #y_size = np.shape(lattice)[1]\n",
        "  current_spin = lattice[x, y]\n",
        "  flipped_spin = -1 * current_spin\n",
        "  total_nn_spins = lattice[x-1, y] + lattice[(x+1)%x_size, y] + lattice[x, y-1] + lattice[x, (y+1)%y_size]\n",
        "\n",
        "  #deltaE = -J*(flipped_spin - current_spin)*total_nn_spins - B*(flipped_spin - current_spin)\n",
        "  #deltaE = (flipped_spin - current_spin) * (-J*total_nn_spins - B)\n",
        "  deltaE = (current_spin - flipped_spin) * (J*total_nn_spins + B)\n",
        "  return deltaE  "
      ],
      "metadata": {
        "id": "Tza6XvdufiLS"
      },
      "execution_count": 16,
      "outputs": []
    },
    {
      "cell_type": "code",
      "source": [
        "#Note numpy gives us a free use of toroidal boundary a.k.a. periodic boundary condition, see spin_lattice[0, -1] at the 0 edge"
      ],
      "metadata": {
        "id": "HMflJ9Q2jvDb"
      },
      "execution_count": 14,
      "outputs": []
    },
    {
      "cell_type": "code",
      "source": [
        "#print(spin_lattice)\n",
        "#pick a random site (x, y) on the lattice\n",
        "(x, y) = np.random.randint(low=0, high=lattice_size, size=2)\n",
        "\n",
        "deltaE = delta_energy(spin_lattice, x, y, J, B, lattice_size, lattice_size)\n",
        "if deltaE < 0:\n",
        "#  spin_lattice[x, y] *= -1\n",
        "  spin_lattice[x, y] = -1 * spin_lattice[x, y]\n",
        "#print(spin_lattice)"
      ],
      "metadata": {
        "id": "V42Jl5RPepAr"
      },
      "execution_count": 19,
      "outputs": []
    },
    {
      "cell_type": "code",
      "source": [
        ""
      ],
      "metadata": {
        "id": "a43QR9iFlqHv"
      },
      "execution_count": null,
      "outputs": []
    }
  ]
}