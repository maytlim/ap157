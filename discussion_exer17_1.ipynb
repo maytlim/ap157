{
  "nbformat": 4,
  "nbformat_minor": 0,
  "metadata": {
    "colab": {
      "name": "discussion-exer17-1.ipynb",
      "provenance": [],
      "authorship_tag": "ABX9TyNd1QjPPql2eKwou01ZAHg5",
      "include_colab_link": true
    },
    "kernelspec": {
      "name": "python3",
      "display_name": "Python 3"
    },
    "language_info": {
      "name": "python"
    }
  },
  "cells": [
    {
      "cell_type": "markdown",
      "metadata": {
        "id": "view-in-github",
        "colab_type": "text"
      },
      "source": [
        "<a href=\"https://colab.research.google.com/github/maytlim/ap157/blob/main/discussion_exer17_1.ipynb\" target=\"_parent\"><img src=\"https://colab.research.google.com/assets/colab-badge.svg\" alt=\"Open In Colab\"/></a>"
      ]
    },
    {
      "cell_type": "markdown",
      "source": [
        "Discussion of some parts of https://gist.github.com/mikk-c/3671b3e4d3c7218b0ffd09b7bdef4545#file-exercise_17_1-ipynb"
      ],
      "metadata": {
        "id": "lpq1eMmhqRSf"
      }
    },
    {
      "cell_type": "code",
      "source": [
        "for i in range(3):\n",
        "  print(i)"
      ],
      "metadata": {
        "colab": {
          "base_uri": "https://localhost:8080/"
        },
        "id": "5ChWkefekuHa",
        "outputId": "ca3059e6-9126-4dd1-a268-0db550f159d4"
      },
      "execution_count": 1,
      "outputs": [
        {
          "output_type": "stream",
          "name": "stdout",
          "text": [
            "0\n",
            "1\n",
            "2\n"
          ]
        }
      ]
    },
    {
      "cell_type": "code",
      "source": [
        "[i for i in range(3)]"
      ],
      "metadata": {
        "colab": {
          "base_uri": "https://localhost:8080/"
        },
        "id": "qpRNQt49kxhK",
        "outputId": "d0ded5ad-fa83-4682-d303-3819633c2cef"
      },
      "execution_count": 2,
      "outputs": [
        {
          "output_type": "execute_result",
          "data": {
            "text/plain": [
              "[0, 1, 2]"
            ]
          },
          "metadata": {},
          "execution_count": 2
        }
      ]
    },
    {
      "cell_type": "code",
      "source": [
        "range(3)"
      ],
      "metadata": {
        "colab": {
          "base_uri": "https://localhost:8080/"
        },
        "id": "Cw7WJ8k-k6vd",
        "outputId": "db0f358f-3a15-4dbd-af61-79848cc32de6"
      },
      "execution_count": 3,
      "outputs": [
        {
          "output_type": "execute_result",
          "data": {
            "text/plain": [
              "range(0, 3)"
            ]
          },
          "metadata": {},
          "execution_count": 3
        }
      ]
    },
    {
      "cell_type": "code",
      "source": [
        "{i*i for i in range(3)}"
      ],
      "metadata": {
        "colab": {
          "base_uri": "https://localhost:8080/"
        },
        "id": "JD7eU--DlBgh",
        "outputId": "f129c8a1-b04b-4d6e-c8cb-aa2b8d53a6ff"
      },
      "execution_count": 4,
      "outputs": [
        {
          "output_type": "execute_result",
          "data": {
            "text/plain": [
              "{0, 1, 4}"
            ]
          },
          "metadata": {},
          "execution_count": 4
        }
      ]
    },
    {
      "cell_type": "code",
      "source": [
        "import random\n",
        "import networkx as nx"
      ],
      "metadata": {
        "id": "gupECDUYlQ-v"
      },
      "execution_count": 5,
      "outputs": []
    },
    {
      "cell_type": "code",
      "source": [
        "!gdown https://www.networkatlas.eu/exercises/17/1/data.txt"
      ],
      "metadata": {
        "colab": {
          "base_uri": "https://localhost:8080/"
        },
        "id": "u9xA6wJJlw8m",
        "outputId": "d9b69856-7178-408f-f9d4-083915b1ee5a"
      },
      "execution_count": 6,
      "outputs": [
        {
          "output_type": "stream",
          "name": "stdout",
          "text": [
            "Downloading...\n",
            "From: https://www.networkatlas.eu/exercises/17/1/data.txt\n",
            "To: /content/data.txt\n",
            "\r0.00B [00:00, ?B/s]\r40.3kB [00:00, 47.4MB/s]\n"
          ]
        }
      ]
    },
    {
      "cell_type": "code",
      "source": [
        "G = nx.read_edgelist(\"/content/data.txt\")"
      ],
      "metadata": {
        "id": "zsG6p4Ktl6ON"
      },
      "execution_count": 7,
      "outputs": []
    },
    {
      "cell_type": "code",
      "source": [
        "nx.draw(G)"
      ],
      "metadata": {
        "colab": {
          "base_uri": "https://localhost:8080/",
          "height": 319
        },
        "id": "Zd_o9N2xmjR-",
        "outputId": "4926df36-f354-457d-d627-4bbcfe1a5e8a"
      },
      "execution_count": 8,
      "outputs": [
        {
          "output_type": "display_data",
          "data": {
            "text/plain": [
              "<Figure size 432x288 with 1 Axes>"
            ],
            "image/png": "[encoded data removed]"
          },
          "metadata": {}
        }
      ]
    },
    {
      "cell_type": "code",
      "source": [
        "i_nodes = set(random.sample(set(G.nodes), 3))\n",
        "i_nodes"
      ],
      "metadata": {
        "colab": {
          "base_uri": "https://localhost:8080/"
        },
        "id": "Xpzf1QaamwVP",
        "outputId": "788fcfe1-bcfb-4025-b71b-6d3d9886397b"
      },
      "execution_count": 9,
      "outputs": [
        {
          "output_type": "execute_result",
          "data": {
            "text/plain": [
              "{'1450', '470', '910'}"
            ]
          },
          "metadata": {},
          "execution_count": 9
        }
      ]
    },
    {
      "cell_type": "code",
      "source": [
        "{n for i_node in i_nodes for n in G.neighbors(i_node)}"
      ],
      "metadata": {
        "colab": {
          "base_uri": "https://localhost:8080/"
        },
        "id": "6eX220t9nKZz",
        "outputId": "126063e4-0a90-4ff3-e2d1-0f64fb799b50"
      },
      "execution_count": 10,
      "outputs": [
        {
          "output_type": "execute_result",
          "data": {
            "text/plain": [
              "{'1365', '1545', '2502', '2503'}"
            ]
          },
          "metadata": {},
          "execution_count": 10
        }
      ]
    },
    {
      "cell_type": "code",
      "source": [
        "for i_node in i_nodes:\n",
        "  print(i_node)"
      ],
      "metadata": {
        "colab": {
          "base_uri": "https://localhost:8080/"
        },
        "id": "pJw5YIvRnY8E",
        "outputId": "6e25b8b0-f3c7-4882-be23-0e23352cea3e"
      },
      "execution_count": 11,
      "outputs": [
        {
          "output_type": "stream",
          "name": "stdout",
          "text": [
            "1450\n",
            "470\n",
            "910\n"
          ]
        }
      ]
    },
    {
      "cell_type": "code",
      "source": [
        "{i_node for i_node in i_nodes}"
      ],
      "metadata": {
        "colab": {
          "base_uri": "https://localhost:8080/"
        },
        "id": "fENBSohrnbsZ",
        "outputId": "82a13462-b790-42ee-e877-d39fc8ea0eac"
      },
      "execution_count": 12,
      "outputs": [
        {
          "output_type": "execute_result",
          "data": {
            "text/plain": [
              "['1450', '470', '910']"
            ]
          },
          "metadata": {},
          "execution_count": 12
        }
      ]
    },
    {
      "cell_type": "code",
      "source": [
        "for i_node in i_nodes:\n",
        "  for n in G.neighbors(i_node):\n",
        "    print(i_node, n)"
      ],
      "metadata": {
        "colab": {
          "base_uri": "https://localhost:8080/"
        },
        "id": "dH_qNhLDnmA9",
        "outputId": "ad904ec4-e2a2-4c99-e7ca-788acb0d8ef2"
      },
      "execution_count": 13,
      "outputs": [
        {
          "output_type": "stream",
          "name": "stdout",
          "text": [
            "1450 1545\n",
            "1450 2503\n",
            "470 2502\n",
            "910 1365\n"
          ]
        }
      ]
    },
    {
      "cell_type": "code",
      "source": [
        "#this is a set\n",
        "{n for i_node in i_nodes for n in G.neighbors(i_node)}"
      ],
      "metadata": {
        "colab": {
          "base_uri": "https://localhost:8080/"
        },
        "id": "pxVyhGv4nxVH",
        "outputId": "f8600e66-37c2-4725-d2e4-f726a57b8386"
      },
      "execution_count": 14,
      "outputs": [
        {
          "output_type": "execute_result",
          "data": {
            "text/plain": [
              "{'1365', '1545', '2502', '2503'}"
            ]
          },
          "metadata": {},
          "execution_count": 14
        }
      ]
    },
    {
      "cell_type": "code",
      "source": [
        "def list_neighbors(G, i_nodes):\n",
        "  listing = set() #unlike a list, a set would not have duplicate entries \n",
        "  for i_node in i_nodes:\n",
        "    for n in G.neighbors(i_node):\n",
        "      listing.add(n)\n",
        "  return listing"
      ],
      "metadata": {
        "id": "Z1fOgZObn0Z5"
      },
      "execution_count": 15,
      "outputs": []
    },
    {
      "cell_type": "code",
      "source": [
        "list_neighbors(G, i_nodes)"
      ],
      "metadata": {
        "colab": {
          "base_uri": "https://localhost:8080/"
        },
        "id": "slG5Sjx0oWiZ",
        "outputId": "c53659f7-9175-45c0-a394-de840df448d4"
      },
      "execution_count": 16,
      "outputs": [
        {
          "output_type": "execute_result",
          "data": {
            "text/plain": [
              "{'1365', '1545', '2502', '2503'}"
            ]
          },
          "metadata": {},
          "execution_count": 16
        }
      ]
    },
    {
      "cell_type": "code",
      "source": [
        ""
      ],
      "metadata": {
        "id": "IAf2ejECoXz4"
      },
      "execution_count": 16,
      "outputs": []
    }
  ]
}